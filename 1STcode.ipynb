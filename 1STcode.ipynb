{
  "nbformat": 4,
  "nbformat_minor": 0,
  "metadata": {
    "colab": {
      "provenance": [],
      "authorship_tag": "ABX9TyM49RvViYnsfvIdRhVGD5UH",
      "include_colab_link": true
    },
    "kernelspec": {
      "name": "python3",
      "display_name": "Python 3"
    },
    "language_info": {
      "name": "python"
    }
  },
  "cells": [
    {
      "cell_type": "markdown",
      "metadata": {
        "id": "view-in-github",
        "colab_type": "text"
      },
      "source": [
        "<a href=\"https://colab.research.google.com/github/SultanaNawaz1460/Machine-Learning/blob/main/1STcode.ipynb\" target=\"_parent\"><img src=\"https://colab.research.google.com/assets/colab-badge.svg\" alt=\"Open In Colab\"/></a>"
      ]
    },
    {
      "cell_type": "markdown",
      "source": [
        "# **Start Coding in ML**\n",
        "    \n",
        "\n"
      ],
      "metadata": {
        "id": "e2iT3E5hdGiD"
      }
    },
    {
      "cell_type": "markdown",
      "source": [
        "# **1ST CODE**"
      ],
      "metadata": {
        "id": "EAZdJ_wzdsrd"
      }
    },
    {
      "cell_type": "code",
      "execution_count": 1,
      "metadata": {
        "colab": {
          "base_uri": "https://localhost:8080/"
        },
        "id": "iW8f9MKFb0Ty",
        "outputId": "a3f25b18-811d-4196-c7bc-386a8b8ded2c"
      },
      "outputs": [
        {
          "output_type": "stream",
          "name": "stdout",
          "text": [
            "BISMILLAH\n"
          ]
        }
      ],
      "source": [
        "print(\"BISMILLAH\")"
      ]
    },
    {
      "cell_type": "code",
      "source": [
        "print(\"This is my first code of python towards learning ML So start with name of ALLAH the magnificent tthe lord and the most kind \")"
      ],
      "metadata": {
        "colab": {
          "base_uri": "https://localhost:8080/"
        },
        "id": "Lv1LLizkcGh0",
        "outputId": "d656fe94-e15e-48b9-d28e-3b7e7292935d"
      },
      "execution_count": 4,
      "outputs": [
        {
          "output_type": "stream",
          "name": "stdout",
          "text": [
            "This is my first code of python towards learning ML So start with name of ALLAH the magnificent tthe lord and the most kind \n"
          ]
        }
      ]
    }
  ]
}